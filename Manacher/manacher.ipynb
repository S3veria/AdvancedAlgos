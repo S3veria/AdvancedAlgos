{
 "cells": [
  {
   "cell_type": "markdown",
   "id": "0e248293",
   "metadata": {},
   "source": [
    "# Manacher para todos los palíndromos de una cadena\n",
    "El algoritmo de Manacher se enfoca en encontrar el palíndromo más grande dentro de una cadena de caracteres __en tiempo lineal__ contrario a otros acercamientos naive.\n",
    "\n",
    "Para lograr esto, el algoritmo utiliza un pivote en el centro de la candena el cual va creciendo e iterando según encuentra más coincidencias a la izquierda y derecha de dicho pivote.\n",
    "\n",
    "Como se mencionó, la intención inicial del algoritmo es encontrar el palíndromo más grande, por lo que para encontrar todos los palíndromos se harán ciertas modificaciones que terminan simplificando Manacher."
   ]
  },
  {
   "cell_type": "code",
   "execution_count": 1,
   "id": "d7af80a3",
   "metadata": {},
   "outputs": [],
   "source": [
    "#Cuenta global que se resetea para cada string\n",
    "count = 0"
   ]
  },
  {
   "cell_type": "markdown",
   "id": "66cec622",
   "metadata": {},
   "source": [
    "## Determinar si es palíndromo\n",
    "Dado un string y los límites en izquiera y derecha, detectar si ambos límites son iguales (es palíndromo) recorrer en direcciones opuestas ambos límites. Cada vez que haya una coincidencia en el caracter de ambos límites se ha encontrado un nuevo palíndromo"
   ]
  },
  {
   "cell_type": "code",
   "execution_count": 2,
   "id": "c77a9c2b",
   "metadata": {},
   "outputs": [],
   "source": [
    "def isPalindrome(s, l, r):\n",
    "    global count\n",
    "    while (l >= 0 and r < len(s) and s[l] == s[r]):\n",
    "        count += 1\n",
    "        l -= 1\n",
    "        r += 1"
   ]
  },
  {
   "cell_type": "markdown",
   "id": "a86c17fc",
   "metadata": {},
   "source": [
    "## Contar palíndromos\n",
    "A diferencia de Manacher convencional, será necesario que cada caracter de la cadena figure como un nuevo pivote por en el cual se va a checar las coincidencias de la izquierda y derecha.\n",
    "\n",
    "De forma que dado un string, se corre isPalindrome en cada uno de los caracteres."
   ]
  },
  {
   "cell_type": "code",
   "execution_count": 3,
   "id": "3a2374fd",
   "metadata": {},
   "outputs": [],
   "source": [
    "def countPalindromes(s):\n",
    "    global count\n",
    "    count = 0\n",
    "    for i in range(len(s)):\n",
    "        isPalindrome(s, i, i)\n",
    "        isPalindrome(s, i, i + 1)\n",
    "    \n",
    "    return count"
   ]
  },
  {
   "cell_type": "markdown",
   "id": "b78f5c97",
   "metadata": {},
   "source": [
    "# Problema\n",
    "[Original](https://open.kattis.com/problems/palindromes)\n",
    "\n",
    "Resumen: Dados un string y un entero que indica la longitud y un arreglo de pares de anteros que indican qué parte del string extraer, regresar el número de palíndromos que hay en la parte extraida del string indicada por cada par de enteros.\n",
    "\n",
    "### Input:\n",
    "```\n",
    "aabacab\n",
    "5\n",
    "1 7\n",
    "1 4\n",
    "3 7\n",
    "2 5\n",
    "5 7\n",
    "```\n",
    "### Output:\n",
    "```\n",
    "11\n",
    "6\n",
    "7\n",
    "5\n",
    "3\n",
    "```"
   ]
  },
  {
   "cell_type": "code",
   "execution_count": 5,
   "id": "21a1c387",
   "metadata": {},
   "outputs": [
    {
     "name": "stdout",
     "output_type": "stream",
     "text": [
      "SOLUCIÓN: \n",
      "11\n",
      "6\n",
      "7\n",
      "5\n",
      "3\n"
     ]
    }
   ],
   "source": [
    "string = \"aabacab\"\n",
    "slices = [string[:], string[:4], string[2:7], string[1:5], string[4:]]\n",
    "print(\"SOLUCIÓN: \")\n",
    "for s in slices:\n",
    "    print(countPalindromes(s))"
   ]
  }
 ],
 "metadata": {
  "kernelspec": {
   "display_name": "Python 3 (ipykernel)",
   "language": "python",
   "name": "python3"
  },
  "language_info": {
   "codemirror_mode": {
    "name": "ipython",
    "version": 3
   },
   "file_extension": ".py",
   "mimetype": "text/x-python",
   "name": "python",
   "nbconvert_exporter": "python",
   "pygments_lexer": "ipython3",
   "version": "3.8.5"
  }
 },
 "nbformat": 4,
 "nbformat_minor": 5
}
