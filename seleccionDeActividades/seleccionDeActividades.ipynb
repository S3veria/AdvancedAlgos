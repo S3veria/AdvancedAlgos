{
 "cells": [
  {
   "cell_type": "markdown",
   "id": "d8a8bccb",
   "metadata": {},
   "source": [
    "# Problema de Seleccion de Actividades\n",
    "Dada una lista de actividades, se debe diseñar un algoritmo que seleccione un máximo local de forma voráz (utilizando algoritmos \"greedy\"). El criterio de selección quedó a nuestra determinación. La lista de actividades deberá de ser un arreglo de tuplas en donde cada tupla represente una actividad con una hora de inicio (primer indice en la tupla) y una hora de fin (segundo indice en la tupla). El algoritmo asume que las actividades ingresadas son validas, es decir, tienen valores enteros y la hora de inicio es menor a la hora de fin."
   ]
  },
  {
   "cell_type": "code",
   "execution_count": 2,
   "id": "d90eac79",
   "metadata": {},
   "outputs": [],
   "source": [
    "from asyncio.windows_events import NULL"
   ]
  },
  {
   "cell_type": "markdown",
   "id": "56bb9ae4",
   "metadata": {},
   "source": [
    "## Funcion select\n",
    "Esta es la función que selecciona una actividad de nuestra lista de actividades. En esta función es en la que se debe implementar nuestro criterio de selección voráz; en nuestro caso es la selección de la actividad con menor duración. La fución simplemente nos regresa un índice entero (representando el índice de la actividad seleccionada)"
   ]
  },
  {
   "cell_type": "code",
   "execution_count": 3,
   "id": "20e4d99d",
   "metadata": {},
   "outputs": [],
   "source": [
    "#actividades es el conjunto C\n",
    "def select(c):\n",
    "    \"\"\"\n",
    "    Esta función se encarga de seleccionar una actividad\n",
    "    El criterio de selección es LA ACTIVIDAD CON MENOR DURACIÓN\n",
    "    \"\"\"\n",
    "    #Iniciamos las variables temporales\n",
    "    minAct=None #Representa el indice de la actividad a seleccionar\n",
    "    minDur=float('inf') #Representa la duracion de la actividad seleccionada\n",
    "\n",
    "    #Iteramos a traves de todas las actividades\n",
    "    for a in range(len(c)):\n",
    "        #Si la actividad en la que estamos ya fue seleccionada (cuando es None), entonces nos vamos a la siguitente interacion\n",
    "        if (c[a] is None): \n",
    "            continue\n",
    "        else:\n",
    "            #Calculamos la duración de la actividad\n",
    "            currDuration=c[a][1]-c[a][0]\n",
    "            #Comparamos la duracion actual con la minima\n",
    "            if currDuration<minDur:\n",
    "                #Si la duracion actual es menor, entonces seleccionamos esa actividad (temporalmente)\n",
    "                minDur=currDuration\n",
    "                minAct=a\n",
    "    #Regresamos la actividad de menor duración\n",
    "    return minAct"
   ]
  },
  {
   "cell_type": "markdown",
   "id": "9b50ae2e",
   "metadata": {},
   "source": [
    "## Funcion feasable\n",
    "Esta función nos indica si una actividad nueva cabe dentro de nuestro arreglo de actividades, es decir, si no hay traslape entre la actividad nueva y las otras actividades ya seleccionadas. La función nos regresa un valor booleano (True o False), representando si la actividad se puede insertar de forma válida en nuestro arreglo de actividades."
   ]
  },
  {
   "cell_type": "code",
   "execution_count": 4,
   "id": "bf27cbc8",
   "metadata": {},
   "outputs": [],
   "source": [
    "def feasable(arr,newAct):\n",
    "    #newAct es tupla\n",
    "    #arr es solucion\n",
    "    #Checar si con la nuevaAct hay traslapacion\n",
    "    #Return a boolean\n",
    "    \"\"\"\n",
    "    Esta función revisa si una actividad dada se puede insertar en nuestra lista de actividades\n",
    "    Revisa si la actividad nueva se traslapa con alguna de las otras actividades de nuestra lista de actividades\n",
    "    Regresa un valor booleano\n",
    "    \"\"\"\n",
    "    #Si la actividad nueva no es una actividad, entonces no hay traslape (regresamos True)\n",
    "    if not newAct:\n",
    "        return True\n",
    "    \n",
    "    #Iteramos a traves de nuestro arreglo de actividades\n",
    "    for act in arr:\n",
    "        if act is None:\n",
    "            continue\n",
    "        actInitial=act[0]\n",
    "        actFinal=act[1]\n",
    "        newActInitial=newAct[0]\n",
    "        newActFinal=newAct[1]\n",
    "\n",
    "        #Si se traslapan, entonces regresamos False\n",
    "        if actInitial<newActInitial and (actFinal>newActInitial):\n",
    "            return False\n",
    "\n",
    "        elif actInitial>=newActInitial and (newActFinal>actInitial):\n",
    "            return False\n",
    "    #Si no se traslapan, regresamos True\n",
    "    return True"
   ]
  },
  {
   "cell_type": "markdown",
   "id": "ee5798b0",
   "metadata": {},
   "source": [
    "## Funcion greedy\n",
    "Esta función es la función principal del algoritmo; esta recibe una lista de actividades como parametro de entrada y regresa un arreglo de actividades (máximo local) que no se traslapan entre sí. En esta función utilizamos la funciones declaradas previamente para seleccionar y validar la selección de actividades. *Es importante notar que el arreglo de solución no está ordenado*"
   ]
  },
  {
   "cell_type": "code",
   "execution_count": 5,
   "id": "6f41e7aa",
   "metadata": {},
   "outputs": [],
   "source": [
    "def greedy(actividades):\n",
    "    \"\"\"\n",
    "    Esta es nuestra función principal para el algoritmo;\n",
    "    esta itera a través de nuestro arreglo de actividades y selecciona (vorazmente) el mayor numero de actividades que puede\n",
    "    \n",
    "    El único parametro de entrada es un arreglo de tuplas (representando actividades),\n",
    "    en donde el primer índice es la hora de inicio y el segundo es la hora de fin de esa actividad\n",
    "    \"\"\"\n",
    "    solucion=[] #Este es nuestro arreglo de solucion (las actividades que seleccionamos)\n",
    "    nones=0 #Este es un counter de las actividades que ya seleccionamos o descartamos\n",
    "\n",
    "    #Iteramos a traves de nuestro arreglo de actividades con un while\n",
    "    while actividades:\n",
    "        #Seleccionamos una actividad\n",
    "        sIndex=select(actividades)\n",
    "        selected=actividades[sIndex]\n",
    "        #Cambiamos esa actividad a None(porque la vamos a tomar o descartar)\n",
    "        actividades[sIndex]=None\n",
    "        #Incrimentamos nuestro contador\n",
    "        nones+=1\n",
    "        #Si seleccionamos una actividad valida y esta cabe dentro de nuestro arreglo de solucion\n",
    "        if selected and feasable(solucion,selected):\n",
    "            #Entonces la metemos al arreglo\n",
    "            solucion.append(selected)\n",
    "        #Revisamos si nuestro contador es igual a la longitud de nuestro arreglo de actividades\n",
    "        #En este caso significa que ya revisamos todas las actividades en el arreglo\n",
    "        if nones==len(actividades):\n",
    "            #Entocnes nos salimos del while loop\n",
    "            break\n",
    "    #Regresamos el arreglo de solucion\n",
    "    return solucion"
   ]
  },
  {
   "cell_type": "markdown",
   "id": "37c24c28",
   "metadata": {},
   "source": [
    "## Prueba del algoritmo con el ejemplo de la clase\n",
    "En clase vimos el ejemplo de actividades [(0,6),(1,4),(2,14),(3,5),(4,5),(5,7),(5,9),(6,10),(8,11),(8,12),(12,16)], el cual podemos pasar como parámetro a nuestra función greedy para obtener el resultado del problema."
   ]
  },
  {
   "cell_type": "code",
   "execution_count": 6,
   "id": "322dd7a4",
   "metadata": {},
   "outputs": [
    {
     "name": "stdout",
     "output_type": "stream",
     "text": [
      "[(4, 5), (5, 7), (1, 4), (8, 11), (12, 16)]\n"
     ]
    }
   ],
   "source": [
    "acts=[(0,6),(1,4),(2,14),(3,5),(4,5),(5,7),(5,9),(6,10),(8,11),(8,12),(12,16)] #Este es el ejemplo en clase de las actividades\n",
    "print(greedy(acts)) #Imprimimos el resultado del algoritmo"
   ]
  }
 ],
 "metadata": {
  "kernelspec": {
   "display_name": "Python 3 (ipykernel)",
   "language": "python",
   "name": "python3"
  },
  "language_info": {
   "codemirror_mode": {
    "name": "ipython",
    "version": 3
   },
   "file_extension": ".py",
   "mimetype": "text/x-python",
   "name": "python",
   "nbconvert_exporter": "python",
   "pygments_lexer": "ipython3",
   "version": "3.9.7"
  }
 },
 "nbformat": 4,
 "nbformat_minor": 5
}
