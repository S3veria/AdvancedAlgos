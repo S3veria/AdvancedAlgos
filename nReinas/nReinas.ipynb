{
 "cells": [
  {
   "cell_type": "markdown",
   "id": "d9ab1ba3",
   "metadata": {},
   "source": [
    "# Problema de las nReinas:\n",
    "\n",
    "Dado un valor de entrada n, debemos de colocar n reinas en un tablero NxN de tal forma que ninguna reina esté atacando a otra reina. Cuando este es el caso, el tablero representa una solución al problema. En este programa se regresan e imprimen todas las posibles soluciones del problema de las nReinas."
   ]
  },
  {
   "cell_type": "code",
   "execution_count": 3,
   "id": "77decdec",
   "metadata": {},
   "outputs": [],
   "source": [
    "import pprint\n",
    "import copy"
   ]
  },
  {
   "cell_type": "markdown",
   "id": "635fb5d9",
   "metadata": {},
   "source": [
    "## Funcion isValid\n",
    "Primero debemos de tener una función que revise si un tablero dado es valido (es valido si no hay colisiones entre reinas). Utilizamos esta función dentro del algoritmo principal para determinar si explorar un camino vale la pena o no (valdría la pena únicamente si el tablero es valido)"
   ]
  },
  {
   "cell_type": "code",
   "execution_count": 4,
   "id": "00ccc3fb",
   "metadata": {},
   "outputs": [],
   "source": [
    "def isValid(inMat):\n",
    "    \"\"\"\n",
    "    Esta funcion checa si una matriz es valida o no (si hay colisiones de reinas o no)\n",
    "    Nota: Se deberia de llamar una vez que se inserta una reina nueva para ver si se vale o no\n",
    "    \"\"\"\n",
    "    queenCountRow=0\n",
    "    queenCountColumn=0\n",
    "\n",
    "    #Dimensions for the matrix\n",
    "    ceiling=0\n",
    "    floor=len(inMat)-1\n",
    "    left=0\n",
    "    right=floor\n",
    "\n",
    "    for i in range(len(inMat)):\n",
    "        queenCountRow=0\n",
    "        queenCountColumn=0\n",
    "        for j in range(len(inMat)):\n",
    "            if inMat[i][j]!=0:\n",
    "                queenCountRow+=1\n",
    "\n",
    "                #Checamos si hay colisiones horizontales\n",
    "                if queenCountRow>1:\n",
    "                    return False\n",
    "            \n",
    "                #Exploramos la diagonal inferior derecha\n",
    "                currRow=i+1\n",
    "                currColumn=j+1\n",
    "\n",
    "                while currRow<=floor and currColumn<=right:\n",
    "                    if inMat[currRow][currColumn]!=0:\n",
    "                        #print(\"bottom right collision\")\n",
    "                        return False\n",
    "                    currRow+=1\n",
    "                    currColumn+=1\n",
    "                \n",
    "                #Exploramos la diagonas inferior izquierda\n",
    "                currRow=i+1\n",
    "                currColumn=j-1\n",
    "\n",
    "                while currRow<=floor and currColumn>=left:\n",
    "                    if inMat[currRow][currColumn]!=0:\n",
    "                        #print(\"bottom left collision\")\n",
    "                        return False\n",
    "                    currRow+=1\n",
    "                    currColumn-=1\n",
    "                \n",
    "                #Exploramos la diagonal superior derecha\n",
    "                currRow=i-1\n",
    "                currColumn=j+1\n",
    "\n",
    "                while currRow>=ceiling and currColumn<=right:\n",
    "                    if inMat[currRow][currColumn]!=0:\n",
    "                        #print(\"top right collision\")\n",
    "                        return False\n",
    "                    currRow-=1\n",
    "                    currColumn+=1\n",
    "                \n",
    "                #Exploramos la diagonal superior izquierda \n",
    "                currRow=i-1\n",
    "                currColumn=j-1\n",
    "\n",
    "                while currRow>=ceiling and currColumn>=left:\n",
    "                    if inMat[currRow][currColumn]!=0:\n",
    "                        return False\n",
    "                    currRow-=1\n",
    "                    currColumn-=1\n",
    "\n",
    "\n",
    "            #Revisamos si hay una colision vertical\n",
    "            if inMat[j][i]!=0:\n",
    "                queenCountColumn+=1\n",
    "                if queenCountColumn>1:\n",
    "                    return False\n",
    "\n",
    "    #Si no hay ninguna colision, entonces regresamos True\n",
    "    return True"
   ]
  },
  {
   "cell_type": "markdown",
   "id": "e74007ab",
   "metadata": {},
   "source": [
    "## Funcion isSolution\n",
    "Otra función útil que estaremos utilizando es \"isSolution\", en donde simplemente estamos checando si el tablero dado es valido y si ya se insertó la última reina que se tiene que insertar."
   ]
  },
  {
   "cell_type": "code",
   "execution_count": 5,
   "id": "73a7579f",
   "metadata": {},
   "outputs": [],
   "source": [
    "def isSolution(inMat, lastInsertedQueen):\n",
    "    \"\"\"\n",
    "    Esta función checa si un tablero es una solución para el problema de nreinas\n",
    "    Regresa un valor booleano\n",
    "\n",
    "    Parametors:\n",
    "    La ultima reina que se insertó (Lo comparamos con la longitud de la Matriz)\n",
    "    La matrizen en la que insertamos la úlitma reina\n",
    "    \"\"\"\n",
    "    if lastInsertedQueen==len(inMat) and isValid(inMat):\n",
    "        return True\n",
    "    return False"
   ]
  },
  {
   "cell_type": "markdown",
   "id": "cc29d900",
   "metadata": {},
   "source": [
    "## Funcion exploreBoards\n",
    "Esta es nuestra función principal, la cual está implementando nuestro algoritmo recursivo. La función crea un arreglo de soluciones al problema a partir del tablero en el que se encuentra actualmente. Tratamos de insertar una nueva reina en cada posicion de la fila en la que nos encontramos actualmente y si en cualquier momento ese es un posicionamiento valido, entonces continuamos explorando ese tablero de forma recursiva."
   ]
  },
  {
   "cell_type": "code",
   "execution_count": 6,
   "id": "c4afe5c9",
   "metadata": {},
   "outputs": [],
   "source": [
    "def exploreBoards(inMat,currQueen):\n",
    "    \"\"\"\n",
    "    Esta es la función recursiva en la que estaremos explorando las distintas posibles soliciones del problema\n",
    "    Se llama esta función con la matriz vacia y con 1 como la llamada inicial del problema (ejecutado por solveNQueens)\n",
    "    \"\"\"\n",
    "\n",
    "    #Tenemos un arreglo de soluciones, que inicialmente esta vacio\n",
    "    sols=[]\n",
    "\n",
    "    #Si la reina a insertar es mayor a la longitud de la matriz, no es una reina valida\n",
    "    #Entonces regresamos el arreglo de soliciones (vacio)\n",
    "    if currQueen>len(inMat):\n",
    "        return sols\n",
    "\n",
    "    #Iteramos a traves de la longid de la matriz (para los posibles posicionamientos de las reinas)\n",
    "    for i in range(len(inMat[currQueen-1])):\n",
    "        #Copiamos la matriz de parametro\n",
    "        trialMat=copy.deepcopy(inMat)\n",
    "        #Insertamos la nueva reina\n",
    "        trialMat[currQueen-1][i]=currQueen\n",
    "\n",
    "        #Checamos si el tablero, con el nuevo posicionamiento, es la solucion al problema\n",
    "        if isSolution(trialMat, currQueen):\n",
    "            #Agregamos esa solucion al arreglo de soluciones\n",
    "            sols.append(trialMat)\n",
    "            #Regresamos el arreglo de soluciones (unicamente con la solucion que acabamos de encontrar)\n",
    "            #Hacemos esto porque no va a haber mas de una solucion al posicionar la ultima reina en el tablero\n",
    "            return sols\n",
    "\n",
    "        #Si el nuevo tablero no es una solucion, checamos si es un tablero valido\n",
    "        #Si no es valido el tablero entonces no ejecutamos la recursio\n",
    "        if isValid(trialMat):\n",
    "            #Hacemos la recursion (con el tablero actual y la siguiente reina)\n",
    "            sol=exploreBoards(trialMat,currQueen+1)\n",
    "            \n",
    "            #Checamos si la llamada recursiva regreso alguna solucion ([] es lo mismo a False en este caso)\n",
    "            if sol:\n",
    "                #Iteramos a travez de las soluciones\n",
    "                for i in sol:\n",
    "                    #Copiamos cada solucion a una variable nueva\n",
    "                    newSol=copy.deepcopy(i)\n",
    "                    #Insertamos la copia dentro del arreglo de soluciones\n",
    "                    sols.append(newSol)\n",
    "                    \n",
    "    #Regresamos el arreglo de soluciones\n",
    "    return sols"
   ]
  },
  {
   "cell_type": "markdown",
   "id": "d3c18436",
   "metadata": {},
   "source": [
    "## Funcion solveNQueens\n",
    "La función solveNQueens es la que mandamos a llamar nosotoros; esta genera una matriz vacía del tamaño del tablero (nxn) y se la manda a exploreBoards junto con la primera reina a colocar (1)"
   ]
  },
  {
   "cell_type": "code",
   "execution_count": 7,
   "id": "cf1481b2",
   "metadata": {},
   "outputs": [],
   "source": [
    "def solveNQueens(n):\n",
    "    \"\"\"\n",
    "    Esta es la funcion que se manda a llamar cuando queremos solucionar el problema de nReinas para un numero n\n",
    "    \"\"\"\n",
    "    #Primero creamos una matriz nxn llena de 0s\n",
    "    mat=[]\n",
    "    for i in range(n):\n",
    "        mat.append([0 for i in range(n)])\n",
    "    #Comenzamos la exploracion del tablero vacio con la reina 1\n",
    "    return exploreBoards(mat,1)"
   ]
  },
  {
   "cell_type": "markdown",
   "id": "3bad83f8",
   "metadata": {},
   "source": [
    "Aquí simplemente estamos declarando una función que nos ayude a imprimir una matriz cualquiera"
   ]
  },
  {
   "cell_type": "code",
   "execution_count": 8,
   "id": "6d3dba55",
   "metadata": {},
   "outputs": [],
   "source": [
    "def printMatrix(mat):\n",
    "    \"\"\"\n",
    "    Esta solo es una funcion para que imprima una matriz por fila (para visualizar las solcuciones)\n",
    "    \"\"\"\n",
    "    for i in mat:\n",
    "        print(i)\n",
    "    print(\"-------------------------------\")"
   ]
  },
  {
   "cell_type": "markdown",
   "id": "d2311fdf",
   "metadata": {},
   "source": [
    "## Solucion a nReinas (n=4)\n",
    "Ahora sí podemos obtener la solución al problema nReinas llamando a la función solveNQueen (que nos regresa un arreglo de matrizes en el cual cada una representa una solución al problema). Podemos probar el algoritmo con n=4 y observar el resultado:"
   ]
  },
  {
   "cell_type": "code",
   "execution_count": 9,
   "id": "281636b4",
   "metadata": {},
   "outputs": [
    {
     "name": "stdout",
     "output_type": "stream",
     "text": [
      "[0, 1, 0, 0]\n",
      "[0, 0, 0, 2]\n",
      "[3, 0, 0, 0]\n",
      "[0, 0, 4, 0]\n",
      "-------------------------------\n",
      "[0, 0, 1, 0]\n",
      "[2, 0, 0, 0]\n",
      "[0, 0, 0, 3]\n",
      "[0, 4, 0, 0]\n",
      "-------------------------------\n"
     ]
    }
   ],
   "source": [
    "nQueens4=solveNQueens(4)\n",
    "for solution in nQueens4:\n",
    "    printMatrix(solution)"
   ]
  },
  {
   "cell_type": "markdown",
   "id": "5ad154eb",
   "metadata": {},
   "source": [
    "## Solucion a nReinas (n=5)\n",
    "Adicionalmente podemos probar el algoritmo con n=5 (o cualquier otro n):"
   ]
  },
  {
   "cell_type": "code",
   "execution_count": 10,
   "id": "3eb3d552",
   "metadata": {},
   "outputs": [
    {
     "name": "stdout",
     "output_type": "stream",
     "text": [
      "[1, 0, 0, 0, 0]\n",
      "[0, 0, 2, 0, 0]\n",
      "[0, 0, 0, 0, 3]\n",
      "[0, 4, 0, 0, 0]\n",
      "[0, 0, 0, 5, 0]\n",
      "-------------------------------\n",
      "[1, 0, 0, 0, 0]\n",
      "[0, 0, 0, 2, 0]\n",
      "[0, 3, 0, 0, 0]\n",
      "[0, 0, 0, 0, 4]\n",
      "[0, 0, 5, 0, 0]\n",
      "-------------------------------\n",
      "[0, 1, 0, 0, 0]\n",
      "[0, 0, 0, 2, 0]\n",
      "[3, 0, 0, 0, 0]\n",
      "[0, 0, 4, 0, 0]\n",
      "[0, 0, 0, 0, 5]\n",
      "-------------------------------\n",
      "[0, 1, 0, 0, 0]\n",
      "[0, 0, 0, 0, 2]\n",
      "[0, 0, 3, 0, 0]\n",
      "[4, 0, 0, 0, 0]\n",
      "[0, 0, 0, 5, 0]\n",
      "-------------------------------\n",
      "[0, 0, 1, 0, 0]\n",
      "[2, 0, 0, 0, 0]\n",
      "[0, 0, 0, 3, 0]\n",
      "[0, 4, 0, 0, 0]\n",
      "[0, 0, 0, 0, 5]\n",
      "-------------------------------\n",
      "[0, 0, 1, 0, 0]\n",
      "[0, 0, 0, 0, 2]\n",
      "[0, 3, 0, 0, 0]\n",
      "[0, 0, 0, 4, 0]\n",
      "[5, 0, 0, 0, 0]\n",
      "-------------------------------\n",
      "[0, 0, 0, 1, 0]\n",
      "[2, 0, 0, 0, 0]\n",
      "[0, 0, 3, 0, 0]\n",
      "[0, 0, 0, 0, 4]\n",
      "[0, 5, 0, 0, 0]\n",
      "-------------------------------\n",
      "[0, 0, 0, 1, 0]\n",
      "[0, 2, 0, 0, 0]\n",
      "[0, 0, 0, 0, 3]\n",
      "[0, 0, 4, 0, 0]\n",
      "[5, 0, 0, 0, 0]\n",
      "-------------------------------\n",
      "[0, 0, 0, 0, 1]\n",
      "[0, 2, 0, 0, 0]\n",
      "[0, 0, 0, 3, 0]\n",
      "[4, 0, 0, 0, 0]\n",
      "[0, 0, 5, 0, 0]\n",
      "-------------------------------\n",
      "[0, 0, 0, 0, 1]\n",
      "[0, 0, 2, 0, 0]\n",
      "[3, 0, 0, 0, 0]\n",
      "[0, 0, 0, 4, 0]\n",
      "[0, 5, 0, 0, 0]\n",
      "-------------------------------\n"
     ]
    }
   ],
   "source": [
    "nQueensSolution=solveNQueens(5)\n",
    "for solution in nQueensSolution:\n",
    "    printMatrix(solution)"
   ]
  },
  {
   "cell_type": "code",
   "execution_count": null,
   "id": "ae44488e",
   "metadata": {},
   "outputs": [],
   "source": []
  }
 ],
 "metadata": {
  "kernelspec": {
   "display_name": "Python 3 (ipykernel)",
   "language": "python",
   "name": "python3"
  },
  "language_info": {
   "codemirror_mode": {
    "name": "ipython",
    "version": 3
   },
   "file_extension": ".py",
   "mimetype": "text/x-python",
   "name": "python",
   "nbconvert_exporter": "python",
   "pygments_lexer": "ipython3",
   "version": "3.9.7"
  }
 },
 "nbformat": 4,
 "nbformat_minor": 5
}
