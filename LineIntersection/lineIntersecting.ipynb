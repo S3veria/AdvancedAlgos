{
 "cells": [
  {
   "cell_type": "markdown",
   "metadata": {},
   "source": [
    "# Line intersection\n",
    "### Autores: Cristian Cázares, Santiago Reyes, Emilio González y Marisol Rodriguez"
   ]
  },
  {
   "cell_type": "markdown",
   "metadata": {},
   "source": [
    "`Computational Geometry`"
   ]
  },
  {
   "cell_type": "markdown",
   "metadata": {},
   "source": [
    "### Problem:\n",
    "Given a set of points that construct a pair of lines. Find if they are intersectig."
   ]
  },
  {
   "cell_type": "markdown",
   "metadata": {},
   "source": [
    "### How does it work?\n",
    "Compares the **orientation** of two lines and given a set of conditions determinates if they are intersecting.\n",
    "\n",
    "The orientation is the turn that a pair **ordered** points do in order to get to a third point.\n",
    "![Orientation](https://raw.githubusercontent.com/S3veria/AdvancedAlgos/main/LineIntersection/orientations.png)\n",
    "\n",
    "In order to find the orientation it is needed to grab two points an origin and create two vectors from the origin to each point.\n",
    "\n",
    "Then we sum both of said vectors and where the result vector ends, we mark a point and form a paralelogram using the two vectors and the new point:\n",
    "![Parallelogram](https://raw.githubusercontent.com/S3veria/AdvancedAlgos/main/LineIntersection/parallelogram.png)\n",
    "\n",
    "The area ***signed* area** of the resulting parallelogram indicates the orientation. So, the order of the points are detrimental.\n",
    "\n",
    "### To calculate the signed area we compute the cross product between the vectors"
   ]
  },
  {
   "cell_type": "code",
   "execution_count": 1,
   "metadata": {},
   "outputs": [],
   "source": [
    "def crossProduct(p0, p1, p2):\n",
    "    return (p1[0] - p0[0]) * (p2[1] - p0[1]) - (p1[1] - p0[1]) * (p2[0] - p0[0])"
   ]
  },
  {
   "cell_type": "markdown",
   "metadata": {},
   "source": [
    "- If the sign of the area is negative, we have a clockwise orientation\n",
    "- If the sign of the area is positive we have counterclockwise orientation\n",
    "- If the area is **0** the the points that built the the parallelogram are collinear."
   ]
  },
  {
   "cell_type": "code",
   "execution_count": 2,
   "metadata": {},
   "outputs": [],
   "source": [
    "def orientation(p0, p1, p2):\n",
    "    #p1, p2 and p3 are points: [x, y]\n",
    "    crossProductResult = crossProduct(p0, p1, p2)\n",
    "    if (crossProductResult < 0):\n",
    "        return \"clock\"\n",
    "    elif (crossProductResult > 0):\n",
    "        return \"counter\"\n",
    "    else:\n",
    "        return \"collinear\""
   ]
  },
  {
   "cell_type": "markdown",
   "metadata": {},
   "source": [
    "In that sense, as said before, **orientation determinates intersection**. So, given two lines, we make the following comparisions:\n",
    "- If two points from a line `a` and one point from a line `b` have a different orientation than the same points `a` and the other one of `b`.\n",
    "\n",
    "\n",
    "**And**\n",
    "\n",
    "- If two points from a line `b` and one point from a line `a` have a different orientation than the same points `b` and the other one of `a`.\n",
    "\n",
    "```python\n",
    "orientation(a1, a2, b1) != orientation(a1, a2, b2) & orientation(b1, b2, a1) != orientation(b1, b2, a2)\n",
    "```\n",
    "\n",
    "\n",
    "**Then the lines are intersecting**"
   ]
  },
  {
   "cell_type": "code",
   "execution_count": 3,
   "metadata": {},
   "outputs": [],
   "source": [
    "def onProjection(p0, p1, p2):\n",
    "    #p1, p2 and p3 are points: [x, y]\n",
    "    if ( \n",
    "        (p1[0] <= max(p0[0], p2[0]) ) \n",
    "        and (p1[0] >= min(p0[0], p2[0]) )\n",
    "        and (p1[1] <= max(p0[1], p2[1]) ) \n",
    "        and (p1[1] >= min(p0[1], p2[1]) ) \n",
    "    ):\n",
    "        return True\n",
    "    return False\n",
    "    \n",
    "def areIntersecting(a, b):\n",
    "    #a and b are segments: [[x1,y1],[x2,y2]]\n",
    "    oa1 = orientation(a[0], a[1], b[0])\n",
    "    oa2 = orientation(a[0], a[1], b[1])\n",
    "    ob1 = orientation(b[0], b[1], a[0])\n",
    "    ob2 = orientation(b[0], b[1], a[1])\n",
    "    \n",
    "    #General case\n",
    "    if (oa1 != oa2 and ob1 != ob2):\n",
    "        return True\n",
    "        \n",
    "    #Special case\n",
    "    if ((oa1 == \"collinear\") and onProjection(a[0], b[0], a[1])):\n",
    "        return True\n",
    "    if ((oa2 == \"collinear\") and onProjection(a[0], b[1], a[1])):\n",
    "        return True\n",
    "    if ((ob1 == \"collinear\") and onProjection(b[0], a[0], b[1])):\n",
    "        return True\n",
    "    if ((ob2 == \"collinear\") and onProjection(b[0], a[1], b[1])):\n",
    "        return True\n",
    "\n",
    "    return False"
   ]
  },
  {
   "cell_type": "markdown",
   "metadata": {},
   "source": [
    "# Test case\n",
    "Check if the following set of points forming segments are intersecting:\n",
    "![E1](https://raw.githubusercontent.com/S3veria/AdvancedAlgos/main/LineIntersection/E1.png)\n",
    "![E2](https://raw.githubusercontent.com/S3veria/AdvancedAlgos/main/LineIntersection/E2.png)\n",
    "![E3](https://raw.githubusercontent.com/S3veria/AdvancedAlgos/main/LineIntersection/E3.png)"
   ]
  },
  {
   "cell_type": "code",
   "execution_count": 4,
   "metadata": {},
   "outputs": [
    {
     "name": "stdout",
     "output_type": "stream",
     "text": [
      "[1, 1]->[10, 1] vs [1, 2]->[10, 2]:  False\n",
      "[10, 0]->[0, 10] vs [0, 0]->[10, 10]:  True\n",
      "[-5, -5]->[0, 0] vs [1, 1]->[10, 10]:  False\n"
     ]
    }
   ],
   "source": [
    "def main():\n",
    "    #Points of segment a    \n",
    "    a1 = [ 1,1]\n",
    "    a2 = [10, 1]\n",
    "    #Points of segment a\n",
    "    b1 = [ 1, 2]\n",
    "    b2 = [10, 2]\n",
    "    #Segments\n",
    "    a = [a1, a2]\n",
    "    b = [b1, b2]\n",
    "    print(f'{a1}->{a2} vs {b1}->{b2}', end=\":  \") #Just print the segments\n",
    "    print(areIntersecting(a, b)) #True or False\n",
    "\n",
    "    a1 = [10,0]\n",
    "    a2 = [0 ,10]\n",
    "    b1 = [0 ,0]\n",
    "    b2 = [10,10]\n",
    "    a = [a1, a2]\n",
    "    b = [b1, b2]\n",
    "    print(f'{a1}->{a2} vs {b1}->{b2}', end=\":  \")\n",
    "    print(areIntersecting(a, b))\n",
    "\n",
    "    a1 = [-5,-5]\n",
    "    a2 = [0 ,0]\n",
    "    b1 = [1 ,1]\n",
    "    b2 = [10,10]\n",
    "    a = [a1, a2]\n",
    "    b = [b1, b2]\n",
    "    print(f'{a1}->{a2} vs {b1}->{b2}', end=\":  \")\n",
    "    print(areIntersecting(a, b))\n",
    "\n",
    "main()"
   ]
  }
 ],
 "metadata": {
  "kernelspec": {
   "display_name": "Python 3 (ipykernel)",
   "language": "python",
   "name": "python3"
  },
  "language_info": {
   "codemirror_mode": {
    "name": "ipython",
    "version": 3
   },
   "file_extension": ".py",
   "mimetype": "text/x-python",
   "name": "python",
   "nbconvert_exporter": "python",
   "pygments_lexer": "ipython3",
   "version": "3.8.5"
  },
  "vscode": {
   "interpreter": {
    "hash": "4a555e8b7118cc3b016601558be86ae9d718f54d1ee86353beef78a73a7f88d4"
   }
  }
 },
 "nbformat": 4,
 "nbformat_minor": 2
}
