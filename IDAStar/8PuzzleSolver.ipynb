{
 "cells": [
  {
   "cell_type": "code",
   "execution_count": 1,
   "id": "5e200696",
   "metadata": {},
   "outputs": [],
   "source": [
    "from copy import deepcopy"
   ]
  },
  {
   "cell_type": "code",
   "execution_count": 2,
   "id": "3ecb359e",
   "metadata": {},
   "outputs": [],
   "source": [
    "def printPuzzle(p):\n",
    "    for line in p:\n",
    "        for num in line:\n",
    "            if num == 0:\n",
    "                print(\" \", end=\" \")\n",
    "            else:\n",
    "                print(num, end=\" \")\n",
    "        print()"
   ]
  },
  {
   "cell_type": "code",
   "execution_count": 3,
   "id": "ebcbee0b",
   "metadata": {},
   "outputs": [],
   "source": [
    "def readPuzzle(fileName: str):\n",
    "    file = open(fileName, 'r+')\n",
    "    lines = file.readlines()\n",
    "    m = []\n",
    "    for line in lines:\n",
    "        intLine = []\n",
    "        for c in line[:-1]:\n",
    "            intLine.append(int(c))\n",
    "        m.append(intLine)\n",
    "    return m"
   ]
  },
  {
   "cell_type": "code",
   "execution_count": 4,
   "id": "b3442901",
   "metadata": {},
   "outputs": [],
   "source": [
    "goalState = [[1,2,3],[4,5,6],[7,8,0]]"
   ]
  },
  {
   "cell_type": "code",
   "execution_count": 5,
   "id": "066ed5d5",
   "metadata": {},
   "outputs": [],
   "source": [
    "resDict={\n",
    "    0:(2,2),\n",
    "    1:(0,0),\n",
    "    2:(0,1),\n",
    "    3:(0,2),\n",
    "    4:(1,0),\n",
    "    5:(1,1),\n",
    "    6:(1,2),\n",
    "    7:(2,0),\n",
    "    8:(2,1)\n",
    "}\n",
    "def calcH(mat):\n",
    "    h=0\n",
    "    for i in range(len(mat)):\n",
    "        for j in range(len(mat[0])):\n",
    "            at=mat[i][j]\n",
    "            iDif=abs(i-resDict[at][0])\n",
    "            jDif=abs(j-resDict[at][1])\n",
    "            h+=(iDif+jDif)\n",
    "    return h"
   ]
  },
  {
   "cell_type": "code",
   "execution_count": 6,
   "id": "a2c07f55",
   "metadata": {},
   "outputs": [],
   "source": [
    "def generateStates(mat):\n",
    "    myI=0\n",
    "    myJ=0\n",
    "    encontrado=False\n",
    "    for i in range(len(mat)):\n",
    "        for j in range(len(mat[0])):\n",
    "            if mat[i][j]==0:\n",
    "                myI=i\n",
    "                myJ=j\n",
    "                encontrado=True\n",
    "                break\n",
    "        if encontrado:\n",
    "            break\n",
    "    #Ya encontramos el 0\n",
    "    \n",
    "    #Determinar posibles numeros a mover a la posición del 0\n",
    "    #Este proceso resulta en un arreglo de estados posibles del puzzle\n",
    "    stateArr=[]\n",
    "    if myI<len(mat)-1:\n",
    "        #down\n",
    "        newMat=deepcopy(mat)\n",
    "        #Hacemos swap\n",
    "        newMat[myI][myJ]=newMat[myI+1][myJ]\n",
    "        newMat[myI+1][myJ]=0\n",
    "        stateArr.append((newMat, calcH(newMat)))\n",
    "    if myI>0:\n",
    "        #up\n",
    "        newMat=deepcopy(mat)\n",
    "        #Hacemos swap\n",
    "        newMat[myI][myJ]=newMat[myI-1][myJ]\n",
    "        newMat[myI-1][myJ]=0\n",
    "        stateArr.append((newMat, calcH(newMat)))\n",
    "    if myJ<len(mat[0])-1:\n",
    "        #left\n",
    "        newMat=deepcopy(mat)\n",
    "        #Hacemos swap\n",
    "        newMat[myI][myJ]=newMat[myI][myJ+1]\n",
    "        newMat[myI][myJ+1]=0\n",
    "        stateArr.append((newMat, calcH(newMat)))\n",
    "    if myJ>0:\n",
    "        #right\n",
    "        newMat=deepcopy(mat)\n",
    "        #Hacemos swap\n",
    "        newMat[myI][myJ]=newMat[myI][myJ-1]\n",
    "        newMat[myI][myJ-1]=0\n",
    "        stateArr.append((newMat, calcH(newMat)))\n",
    "    return stateArr  "
   ]
  },
  {
   "cell_type": "code",
   "execution_count": 7,
   "id": "c2577f66",
   "metadata": {},
   "outputs": [
    {
     "name": "stdout",
     "output_type": "stream",
     "text": [
      "7 2 4 \n",
      "5   6 \n",
      "8 3 1 \n",
      "-------------\n",
      "State 0: 14\n",
      "7 2 4 \n",
      "5 3 6 \n",
      "8   1 \n",
      "State 1: 18\n",
      "7   4 \n",
      "5 2 6 \n",
      "8 3 1 \n",
      "State 2: 16\n",
      "7 2 4 \n",
      "5 6   \n",
      "8 3 1 \n",
      "State 3: 16\n",
      "7 2 4 \n",
      "  5 6 \n",
      "8 3 1 \n"
     ]
    }
   ],
   "source": [
    "puzzle = readPuzzle('puzzle.txt')\n",
    "printPuzzle(puzzle)\n",
    "#printPuzzle(goalState) #724506831\n",
    "\n",
    "print(\"-------------\")\n",
    "states=generateStates(puzzle)\n",
    "\n",
    "for i, state in enumerate(states):\n",
    "    print(f\"State {i}: {state[1]}\")\n",
    "    printPuzzle(state[0])"
   ]
  }
 ],
 "metadata": {
  "kernelspec": {
   "display_name": "Python 3 (ipykernel)",
   "language": "python",
   "name": "python3"
  },
  "language_info": {
   "codemirror_mode": {
    "name": "ipython",
    "version": 3
   },
   "file_extension": ".py",
   "mimetype": "text/x-python",
   "name": "python",
   "nbconvert_exporter": "python",
   "pygments_lexer": "ipython3",
   "version": "3.8.5"
  }
 },
 "nbformat": 4,
 "nbformat_minor": 5
}
