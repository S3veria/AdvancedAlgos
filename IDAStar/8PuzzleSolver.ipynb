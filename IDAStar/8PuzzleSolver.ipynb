{
 "cells": [
  {
   "cell_type": "markdown",
   "id": "d2815b78",
   "metadata": {},
   "source": [
    "# 8 Puzzle Solver using IDA*"
   ]
  },
  {
   "cell_type": "code",
   "execution_count": 1,
   "id": "5e200696",
   "metadata": {},
   "outputs": [],
   "source": [
    "from copy import deepcopy\n",
    "import "
   ]
  },
  {
   "cell_type": "markdown",
   "id": "9459c64d",
   "metadata": {},
   "source": [
    "## Puzzle utilities"
   ]
  },
  {
   "cell_type": "code",
   "execution_count": 2,
   "id": "c83a1d1b",
   "metadata": {},
   "outputs": [],
   "source": [
    "puzzle = [[1,2,3],\n",
    "          [4,5,0],\n",
    "          [7,8,6]]\n",
    "'''\n",
    "resDict works as the final puzzle:\n",
    "    1 2 3\n",
    "    4 5 6\n",
    "    7 8 0\n",
    "'''\n",
    "resDict={\n",
    "    0:(2,2),\n",
    "    1:(0,0),\n",
    "    2:(0,1),\n",
    "    3:(0,2),\n",
    "    4:(1,0),\n",
    "    5:(1,1),\n",
    "    6:(1,2),\n",
    "    7:(2,0),\n",
    "    8:(2,1)\n",
    "}\n",
    "\n",
    "def printPuzzle(p):\n",
    "    for line in p:\n",
    "        for num in line:\n",
    "            if num == 0:\n",
    "                print(\" \", end=\" \")\n",
    "            else:\n",
    "                print(num, end=\" \")\n",
    "        print()\n",
    "\n",
    "def readPuzzle(fileName: str):\n",
    "    file = open(fileName, 'r+')\n",
    "    lines = file.readlines()\n",
    "    m = []\n",
    "    for line in lines:\n",
    "        intLine = []\n",
    "        for c in line[:-1]:\n",
    "            intLine.append(int(c))\n",
    "        m.append(intLine)\n",
    "    return m"
   ]
  },
  {
   "cell_type": "markdown",
   "id": "54105da5",
   "metadata": {},
   "source": [
    "## Calculate H\n",
    "IDA* uses an heuristic to determinate how close a current state is to the correct solution\n",
    "\n",
    "We use the Manhatthan Distance to know how far a number is from its target position and added said distance across all the cells to determinate a H value. "
   ]
  },
  {
   "cell_type": "code",
   "execution_count": 3,
   "id": "f8a30ec4",
   "metadata": {},
   "outputs": [],
   "source": [
    "def calcH(mat):\n",
    "    h=0\n",
    "    for i in range(len(mat)):\n",
    "        for j in range(len(mat[0])):\n",
    "            at=mat[i][j]\n",
    "            iDif=abs(i-resDict[at][0])\n",
    "            jDif=abs(j-resDict[at][1])\n",
    "            h+=(iDif+jDif)\n",
    "    return h"
   ]
  },
  {
   "cell_type": "markdown",
   "id": "07191db3",
   "metadata": {},
   "source": [
    "## Generate States\n",
    "Receives a puzzle and looks for the empty cell (value of 0). Then according, to its position, it generates a list of new matrices with every move that can take the place of the empty cell.\n",
    "\n",
    "It also calculates the H value for each generated matrix and returns both H and matrix as a tuple."
   ]
  },
  {
   "cell_type": "code",
   "execution_count": 4,
   "id": "c21fcfcc",
   "metadata": {},
   "outputs": [],
   "source": [
    "def generateStates(mat):\n",
    "    myI=0\n",
    "    myJ=0\n",
    "    encontrado=False\n",
    "    for i in range(len(mat)):\n",
    "        for j in range(len(mat[0])):\n",
    "            if mat[i][j]==0:\n",
    "                myI=i\n",
    "                myJ=j\n",
    "                encontrado=True\n",
    "                break\n",
    "        if encontrado:\n",
    "            break\n",
    "    #Ya encontramos el 0\n",
    "    \n",
    "    #Determinar posibles numeros a mover a la posición del 0\n",
    "    #Este proceso resulta en un arreglo de estados posibles del puzzle\n",
    "    stateArr=[]\n",
    "    if myI<len(mat)-1:\n",
    "        #down\n",
    "        newMat=deepcopy(mat)\n",
    "        #Hacemos swap\n",
    "        newMat[myI][myJ]=newMat[myI+1][myJ]\n",
    "        newMat[myI+1][myJ]=0\n",
    "        stateArr.append((newMat, calcH(newMat)))\n",
    "    if myI>0:\n",
    "        #up\n",
    "        newMat=deepcopy(mat)\n",
    "        #Hacemos swap\n",
    "        newMat[myI][myJ]=newMat[myI-1][myJ]\n",
    "        newMat[myI-1][myJ]=0\n",
    "        stateArr.append((newMat, calcH(newMat)))\n",
    "    if myJ<len(mat[0])-1:\n",
    "        #left\n",
    "        newMat=deepcopy(mat)\n",
    "        #Hacemos swap\n",
    "        newMat[myI][myJ]=newMat[myI][myJ+1]\n",
    "        newMat[myI][myJ+1]=0\n",
    "        stateArr.append((newMat, calcH(newMat)))\n",
    "    if myJ>0:\n",
    "        #right\n",
    "        newMat=deepcopy(mat)\n",
    "        #Hacemos swap\n",
    "        newMat[myI][myJ]=newMat[myI][myJ-1]\n",
    "        newMat[myI][myJ-1]=0\n",
    "        stateArr.append((newMat, calcH(newMat)))\n",
    "    return stateArr"
   ]
  },
  {
   "cell_type": "markdown",
   "id": "c7eb98a5",
   "metadata": {},
   "source": [
    "## Tree node\n",
    "A class that works as a node in order to create a tree of all the generated states.\n",
    "It stores:\n",
    "* The matrix of the father\n",
    "* The matrix of itself\n",
    "* Its H value\n",
    "* Its G value\n",
    "\n",
    "#### G Value\n",
    "The G Value is the depth of a node, it is used to pick between multiple nodes with the same H value in order to pick the solution that was found first (the iterative deepening search part of IDA*)."
   ]
  },
  {
   "cell_type": "code",
   "execution_count": 5,
   "id": "bf215913",
   "metadata": {},
   "outputs": [],
   "source": [
    "class treeNode():\n",
    "  def __init__(self, fatherState, myState, hVal, gVal):\n",
    "    self.father=fatherState\n",
    "    self.state=myState\n",
    "    self.h=hVal\n",
    "    self.g=gVal\n",
    "    self.children=[] #Vamos a guardar mas treeNodes\n",
    "  def getValues(self):\n",
    "    return {\"h\":self.h, \"g\": self.g}\n",
    "  def getChildren(self):\n",
    "    return self.children\n",
    "  def getState(self):\n",
    "    return self.state\n",
    "  def addChildren(self, newChildren):\n",
    "    for c in newChildren:\n",
    "      self.children.append(c)\n",
    "  def getChildren(self):\n",
    "    return self.children\n",
    "  def getParent(self):\n",
    "    return self.father\n",
    "  def print(self):\n",
    "    print('--------------------------')\n",
    "    print(f\"h: {self.h}, g: {self.g}\")\n",
    "    printPuzzle(self.state)"
   ]
  },
  {
   "cell_type": "markdown",
   "id": "8e80fc56",
   "metadata": {},
   "source": [
    "## Find a suitable solution\n",
    "Takes the original puzzle and iteratively starts generating childrens. Chooses to generate children to the ones that had a lesser H value.\n",
    "\n",
    "Once the first child with H value of zero is found, we found a minimal optimal solution. Then it keeps generating children to the sibling nodes in order to find one that has an H value of zero with a lesser G. If not found, it only expands all off the siblings until the G value (the depth) of each is equals to the G value of the minimal optimal solution."
   ]
  },
  {
   "cell_type": "code",
   "execution_count": 6,
   "id": "a3600b07",
   "metadata": {},
   "outputs": [],
   "source": [
    "firstNode=treeNode(None,puzzle,calcH(puzzle),0)\n",
    "\n",
    "stateQueue=[(firstNode, [firstNode.getState()])]\n",
    "stateStack=[]\n",
    "def iterativeMakeChildren(node, maxDepth=float('inf'), visited=[]):\n",
    "  \n",
    "  visited.append(node.getState())\n",
    "  currentValues=node.getValues()\n",
    "  if currentValues['h']==0:\n",
    "\n",
    "    return (node,node) #Este es nuestro camino optimo\n",
    "  if currentValues['g']>maxDepth:\n",
    "    return (node,None)\n",
    "                   \n",
    "  newStates=generateStates(node.getState())\n",
    "  newNodes=[]\n",
    "  minH=float('inf')\n",
    "  for i in newStates:      \n",
    "    newNode=treeNode(node, i[0], i[1], node.getValues()[\"g\"]+1)\n",
    "    newNodes.append(newNode)\n",
    "    #visited.append(i)\n",
    "    if i[1]<minH and i[0] not in visited:\n",
    "      minH=i[1]\n",
    "  optimalNode=None\n",
    "  for n in newNodes:\n",
    "    \n",
    "    #bucle de empates\n",
    "    if n.getValues()['h']==minH : \n",
    "      stateQueue.append((n, visited))\n",
    "    elif n.getState() not in visited:\n",
    "      stateStack.append((n, visited))\n",
    "\n",
    "  node.addChildren(newNodes)\n",
    "  return (node, optimalNode, visited)"
   ]
  },
  {
   "cell_type": "markdown",
   "id": "e17fa515",
   "metadata": {},
   "source": [
    "## Track the path to get to the found solution\n",
    "Once the optimal solution is found, in order to visualize the path to get to it, we go to each of the parents of the final node."
   ]
  },
  {
   "cell_type": "code",
   "execution_count": 7,
   "id": "c746b6d9",
   "metadata": {},
   "outputs": [
    {
     "name": "stdout",
     "output_type": "stream",
     "text": [
      "--------------------------\n",
      "h: 0, g: 1\n",
      "1 2 3 \n",
      "4 5 6 \n",
      "7 8   \n",
      "1\n",
      "--------------------------\n",
      "h: 0, g: 1\n",
      "1 2 3 \n",
      "4 5 6 \n",
      "7 8   \n",
      "---------step---------\n",
      "[1, 2, 3]\n",
      "[4, 5, 0]\n",
      "[7, 8, 6]\n",
      "---------step---------\n",
      "[1, 2, 3]\n",
      "[4, 5, 6]\n",
      "[7, 8, 0]\n"
     ]
    }
   ],
   "source": [
    "def findSolution():\n",
    "    maxD=float('inf')\n",
    "    optimalNode=None\n",
    "    while stateQueue or stateStack:\n",
    "        currentN=()\n",
    "        if stateQueue:\n",
    "            currentN=stateQueue.pop(0)\n",
    "        else:\n",
    "            currentN=stateStack.pop(-1)\n",
    "        functionCall=iterativeMakeChildren(currentN[0], visited=currentN[1], maxDepth=maxD)\n",
    "        resOptimalNode=functionCall[1]\n",
    "        if resOptimalNode and resOptimalNode.getValues()['g']<maxD:\n",
    "            optimalNode=resOptimalNode\n",
    "            optimalNode.print()\n",
    "            maxD = optimalNode.getValues()['g']\n",
    "            print(maxD)\n",
    "\n",
    "    optimalNode.print()\n",
    "    #Encontrar el path\n",
    "    path=[]\n",
    "    node=optimalNode\n",
    "    while node:\n",
    "        path.append(node.getState())\n",
    "        node=node.getParent()\n",
    "    #Imprimir el path\n",
    "    path=path[::-1]\n",
    "    for mat in path:\n",
    "        print(\"---------step---------\")\n",
    "        for i in mat:\n",
    "            print(i)\n",
    "\n",
    "findSolution()"
   ]
  }
 ],
 "metadata": {
  "kernelspec": {
   "display_name": "Python 3 (ipykernel)",
   "language": "python",
   "name": "python3"
  },
  "language_info": {
   "codemirror_mode": {
    "name": "ipython",
    "version": 3
   },
   "file_extension": ".py",
   "mimetype": "text/x-python",
   "name": "python",
   "nbconvert_exporter": "python",
   "pygments_lexer": "ipython3",
   "version": "3.8.5"
  },
  "vscode": {
   "interpreter": {
    "hash": "4a555e8b7118cc3b016601558be86ae9d718f54d1ee86353beef78a73a7f88d4"
   }
  }
 },
 "nbformat": 4,
 "nbformat_minor": 5
}
