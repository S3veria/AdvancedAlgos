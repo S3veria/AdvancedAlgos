{
 "cells": [
  {
   "cell_type": "markdown",
   "id": "1a932924",
   "metadata": {},
   "source": [
    "# Problema de cambio\n",
    "\n",
    "### Autores: Santiago Severia, Cristian Cázares, Emilio González and Marisol Rodríguez\n",
    "\n",
    "`Dynamic Programming`\n",
    "\n",
    "**Descripción**: Algoritmo para determinar la menor cantidad de monedas a dar de cambio, dado un grupo de denominaciones de monedas y una cantidad de cambio.\n",
    "\n",
    "Utiliza __Dynamic Programming__ para evitar volver a calcular casos que ya hayan sido evaluados."
   ]
  },
  {
   "cell_type": "markdown",
   "id": "4505e030",
   "metadata": {},
   "source": [
    "### Variables globales:\n",
    "__matriz__: Almacena los casos que ya hayan sido calculados (dynamic programming).\n",
    "__monedas__: Se le asignará la denominación de monedas disponibles."
   ]
  },
  {
   "cell_type": "code",
   "execution_count": 1,
   "id": "3047ddb8",
   "metadata": {},
   "outputs": [],
   "source": [
    "matriz = []\n",
    "monedas = []"
   ]
  },
  {
   "cell_type": "markdown",
   "id": "833ae801",
   "metadata": {},
   "source": [
    "## cambio(deno, total):\n",
    "Toma dos cantidades enteras para regresar el mínmo número de monedas que se pueden dar de cambio.\n",
    "\n",
    "__deno__: Posición de una denominación dentro de una lista de denominaciones.\n",
    "\n",
    "__total__: La cantidad a repartir de cambio.\n",
    "\n",
    "Primero se evalúa si ya se calculó la cantidad de monedas para cierto total (dynamic programming).\n",
    "En caso de no haber sido calculado, se hace reparto óptimo de acuerdo a las monedas disponibles."
   ]
  },
  {
   "cell_type": "code",
   "execution_count": 2,
   "id": "b27c67f0",
   "metadata": {},
   "outputs": [],
   "source": [
    "def cambio(deno,total):\n",
    "    \"\"\"\n",
    "    Esta es la funcion principal, regresa el numero minimo de monedas que se pueden dar de cambio\n",
    "    \"\"\"\n",
    "    global matriz, monedas\n",
    "    \n",
    "    #Si en el valor en el que estamos esta marcado como None, entonces regresamos None\n",
    "    if (matriz[deno][total]!=None):\n",
    "        return matriz[deno][total]\n",
    "    #Si el total de monedas es 0, entonces metemos el valor en la matriz y lo regresamos\n",
    "    if total==0:\n",
    "        matriz[deno][total]=0\n",
    "        return 0\n",
    "    #Si la denominacion es 0 y el total no es 0, entonce el cambio en moendas es impossible\n",
    "    elif deno==0 and total!=0:\n",
    "        matriz[deno][total]=float('inf')\n",
    "        return float('inf')\n",
    "    #Si la denominacion es mayor al total, entonces tenemos que bajar la denominacion. Metemos esta info en la matriz.\n",
    "    if monedas[deno]>total:\n",
    "        res= cambio(deno-1,total)\n",
    "        matriz[deno][total]=res\n",
    "        return res\n",
    "    #De otra forma, si podemos utilizar la denominacion en el total\n",
    "    else:\n",
    "        #El resultado sera el minimo entre utilizar esa denominacion de moneda o utilizar una denominacion menor\n",
    "        res= min(cambio(deno-1,total), cambio(deno,total-monedas[deno])+1)\n",
    "        #Aqui metemos el resultado en la matriz\n",
    "        matriz[deno][total]=res\n",
    "        return res    "
   ]
  },
  {
   "cell_type": "markdown",
   "id": "d385cd5c",
   "metadata": {},
   "source": [
    "## cualesMonedas(m, i, j):\n",
    "Se toma la matrix con el resultado del dynamic programming (__m__) y se determina la denominación y cantidad de las monedas a dar dada la cantidad de estas (__i__) y el total del cambio a regresar (__j__)."
   ]
  },
  {
   "cell_type": "code",
   "execution_count": 3,
   "id": "9c35a7d4",
   "metadata": {},
   "outputs": [],
   "source": [
    "def cualesMonedas(m, i, j):\n",
    "    \"\"\"\n",
    "    Esta funcion nos ayuda a encontrar las monedas que solucionan el problema dada\n",
    "        la matriz m,\n",
    "        el numero de denominaciones de monedas\n",
    "        y el total de dinero a cambiar\n",
    "    \"\"\"\n",
    "    res=[]\n",
    "    while m[i][j] not in (float('inf'), 0):\n",
    "        if i>0 and m[i][j]==m[i-1][j]:\n",
    "            i-=1\n",
    "        else:\n",
    "            res.append(monedas[i])\n",
    "            j-=monedas[i]\n",
    "    return res"
   ]
  },
  {
   "cell_type": "markdown",
   "id": "59132ec4",
   "metadata": {},
   "source": [
    "## main()"
   ]
  },
  {
   "cell_type": "code",
   "execution_count": 4,
   "id": "29d3bfa2",
   "metadata": {},
   "outputs": [
    {
     "name": "stdout",
     "output_type": "stream",
     "text": [
      "Cambio de $8\n",
      "Numero de monedas: 3\n",
      "Denominaciones del cambio: $[3, 3, 2]\n"
     ]
    }
   ],
   "source": [
    "def main():\n",
    "    global matriz, monedas\n",
    "    \n",
    "    #Definir el total de dinero a cambiar\n",
    "    total=8\n",
    "    #Definir las monedas que tenemos dispoibles (El 0 tiene que estar incluido)\n",
    "    monedas=[0,2,3,7]\n",
    "    #Hacemos una matriz vacia (Llena de valores None)\n",
    "    matriz=[[None for i in range(total+1)] for j in range(len(monedas))]\n",
    "\n",
    "    monedasTotales=cambio(3,total) #Aqui obtenemos la solucion al problema\n",
    "\n",
    "    #Llenamos la primera fila con 0s y el primero con infinito\n",
    "    for i in range(len(matriz[0])):\n",
    "        if i==0:\n",
    "            matriz[0][i]=0\n",
    "        else:\n",
    "            matriz[0][0]=float('inf')\n",
    "\n",
    "    #Llenamos la primer columna de 0s\n",
    "    for j in range(len(matriz)):\n",
    "        matriz[j][0]=0\n",
    "\n",
    "    print(f'Cambio de ${total}')\n",
    "    print(f'Numero de monedas: {monedasTotales}') #Imprimimos el numero de monedas\n",
    "    print(f'Denominaciones del cambio: ${cualesMonedas(matriz,len(monedas)-1,total)}') #Imprimimos cuales monedas dan solucion al problema\n",
    "\n",
    "if __name__ == \"__main__\":\n",
    "    main()"
   ]
  }
 ],
 "metadata": {
  "kernelspec": {
   "display_name": "Python 3",
   "language": "python",
   "name": "python3"
  },
  "language_info": {
   "codemirror_mode": {
    "name": "ipython",
    "version": 3
   },
   "file_extension": ".py",
   "mimetype": "text/x-python",
   "name": "python",
   "nbconvert_exporter": "python",
   "pygments_lexer": "ipython3",
   "version": "3.8.8"
  }
 },
 "nbformat": 4,
 "nbformat_minor": 5
}
