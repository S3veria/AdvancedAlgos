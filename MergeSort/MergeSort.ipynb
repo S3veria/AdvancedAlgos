{
 "cells": [
  {
   "cell_type": "markdown",
   "id": "c029eccd",
   "metadata": {},
   "source": [
    "# Merge Sort\n",
    "\n",
    "### Authors: Santiago Severia, Cristian Cázares, Emilio Gonzales and Marisol Rodríguez\n",
    "\n",
    "**Description**: Mergesort algorithm using recursiveness."
   ]
  },
  {
   "cell_type": "markdown",
   "id": "9aa5de63",
   "metadata": {},
   "source": [
    "## merge(list1, list2):\n",
    "Takes two lists and merge them into one resulting sorted list."
   ]
  },
  {
   "cell_type": "code",
   "execution_count": 1,
   "id": "df4cbf9e",
   "metadata": {},
   "outputs": [],
   "source": [
    "def merge(list1,list2):\n",
    "    final=[]\n",
    "    while list1 and list2:\n",
    "        if list1[0]>list2[0]:\n",
    "            final.append(list2.pop(0))\n",
    "        else:\n",
    "            final.append(list1.pop(0))\n",
    "\n",
    "    if not list1:\n",
    "        for i in list2:\n",
    "            final.append(i)\n",
    "\n",
    "    if not list2:\n",
    "        for j in list1:\n",
    "            final.append(j)\n",
    "\n",
    "    return final"
   ]
  },
  {
   "cell_type": "markdown",
   "id": "915c271c",
   "metadata": {},
   "source": [
    "## sort(finalList)\n",
    "Takes a list and recursively calls itself (sort) for the two halves of the original list. Then merges the two halves."
   ]
  },
  {
   "cell_type": "code",
   "execution_count": 2,
   "id": "28cf4dbf",
   "metadata": {},
   "outputs": [],
   "source": [
    "def sort(finalList):\n",
    "    if not finalList or len(finalList)==1:\n",
    "        return finalList\n",
    "\n",
    "    leftList=sort(finalList[:len(finalList)//2])\n",
    "    rightList=sort(finalList[len(finalList)//2:])\n",
    "\n",
    "    return merge(leftList,rightList)"
   ]
  },
  {
   "cell_type": "markdown",
   "id": "5a3af154",
   "metadata": {},
   "source": [
    "## main()\n",
    "Tests the algorithm"
   ]
  },
  {
   "cell_type": "code",
   "execution_count": 7,
   "id": "8fb8d321",
   "metadata": {},
   "outputs": [
    {
     "name": "stdout",
     "output_type": "stream",
     "text": [
      "List to sort:\n",
      "\t [4, 5, 78, 3, 7, -1, 0, -6, -8, 5, 54, 32]\n",
      "Sorted list:\n",
      "\t [-8, -6, -1, 0, 3, 4, 5, 5, 7, 32, 54, 78]\n"
     ]
    }
   ],
   "source": [
    "def main():\n",
    "    listToSort=[4,5,78,3,7,-1,0,-6,-8,5,54,32]\n",
    "    newList=sort(listToSort)\n",
    "    print(\"List to sort:\")\n",
    "    print(\"\\t\", listToSort)\n",
    "    print(\"Sorted list:\")\n",
    "    print(\"\\t\", newList)\n",
    "\n",
    "if __name__ == \"__main__\":\n",
    "    main()"
   ]
  }
 ],
 "metadata": {
  "kernelspec": {
   "display_name": "Python 3",
   "language": "python",
   "name": "python3"
  },
  "language_info": {
   "codemirror_mode": {
    "name": "ipython",
    "version": 3
   },
   "file_extension": ".py",
   "mimetype": "text/x-python",
   "name": "python",
   "nbconvert_exporter": "python",
   "pygments_lexer": "ipython3",
   "version": "3.8.8"
  }
 },
 "nbformat": 4,
 "nbformat_minor": 5
}
