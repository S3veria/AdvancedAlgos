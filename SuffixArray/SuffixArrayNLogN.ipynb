{
 "cells": [
  {
   "cell_type": "markdown",
   "id": "67c74bd7",
   "metadata": {},
   "source": [
    "# Suffix array, acercamiento O(n logn)\n",
    "\n",
    "### Programa que toma una cadena de caracteres y regresa su suffix array.\n",
    "\n",
    "Generar un arreglo de sufijos para una cadena de caracteres tiene una complejidad temporal considerable. Primero se necesitan generar todos todos los sufijos de una cadena.\n",
    "\n",
    "Posteriormente se necesitan ordenar alfabéticamente cada uno de los sufijos; existen varios algoritmos de ordenamiento, y un primer acercamiento sería emplear uno con complejidad O(n log n) como mergesort.\n",
    "\n",
    "Normalmente, un algoritmo de este tipo hacer una comparación directa entre dos valores, no obstante, para ordenar alfabéticamente es necesario comparar uno a uno los caracteres entre dos cadenas, lo que tomaría O(n), de forma que un algoritmo O(n log n), para a ser O(n<sup>2</sup> log n).\n",
    "\n",
    "La parte de comparar uno a uno los caracteres no es posible reducirla, por lo que para lograr que la generación del suffix array sea O(n logn) se necesita un algoritmo de ordenamiento que por sí solo sea O(logn).\n",
    "\n",
    "Las opciones para hacer esto son los algoritmos: counting sort y radix sort."
   ]
  },
  {
   "cell_type": "markdown",
   "id": "36f83733",
   "metadata": {},
   "source": [
    "## Radix sort\n",
    "Se decidió implementar un algoritmo radix sort adaptado para ordenamiento alfabético.\n",
    "\n",
    "La complejidad tanto del algoritmo es O(logn) y de las comparaciones O(n), de forma que la complejidad final de ordenar es precisamente O(n logn)"
   ]
  },
  {
   "cell_type": "code",
   "execution_count": 1,
   "id": "03f64c49",
   "metadata": {},
   "outputs": [],
   "source": [
    "#alphabetic raddix sort from: FolksTalk\n",
    "def count_sort_letters(array, size, col, base, max_len):\n",
    "    \"\"\" Helper routine for performing a count sort based upon column col \"\"\"\n",
    "    output = [0] * size\n",
    "    count = [0] * (base + 1)  # One addition cell to account for dummy letter\n",
    "    min_base = ord('a') - 1  # subtract one too allow for dummy character\n",
    "    for item in array:  # generate Counts\n",
    "        # get column letter if within string, else use dummy position of 0\n",
    "        letter = ord(item[col]) - min_base if col < len(item) else 0\n",
    "        count[letter] += 1\n",
    "    for i in range(len(count)-1):   # Accumulate counts\n",
    "        count[i + 1] += count[i]\n",
    "    for item in reversed(array):\n",
    "        # Get index of current letter of item at index col in count array\n",
    "        letter = ord(item[col]) - min_base if col < len(item) else 0\n",
    "        output[count[letter] - 1] = item\n",
    "        count[letter] -= 1\n",
    "    return output\n",
    "\n",
    "def radix_sort_letters(array, max_col=None):\n",
    "    \"\"\" Main sorting routine \"\"\"\n",
    "    if not max_col:\n",
    "        max_col = len(max(array, key=len))  # edit to max length\n",
    "    for col in range(max_col-1, -1, -1):  # max_len-1, max_len-2, ...0\n",
    "        array = count_sort_letters(array, len(array), col, 26, max_col)\n",
    "    return array"
   ]
  },
  {
   "cell_type": "markdown",
   "id": "8569bc9e",
   "metadata": {},
   "source": [
    "## Ingresar palabra a generar suffix array."
   ]
  },
  {
   "cell_type": "code",
   "execution_count": 2,
   "id": "b0492ff8",
   "metadata": {},
   "outputs": [
    {
     "name": "stdout",
     "output_type": "stream",
     "text": [
      "Please enter a word to calculate a suffix array: Algoritmos\n"
     ]
    }
   ],
   "source": [
    "s = input(\"Please enter a word to calculate a suffix array: \").lower()\n",
    "n = len(s)"
   ]
  },
  {
   "cell_type": "markdown",
   "id": "642b332f",
   "metadata": {},
   "source": [
    "## Variables auxiliaries\n",
    "Se utilizan variables auxiliares, en especial un diccionario en donde las llaves son cada uno de los sufijos y sus valores son los indices originales de dichos sufijos al momento de generalos (previo a ser ordenados alfabéticamente).\n",
    "\n",
    "La cantidad de sufijos que se generan son igual a la longitud de la cadena, de forma que el espacio auxiliar tiene una complejidad (espacial) de O(n)"
   ]
  },
  {
   "cell_type": "code",
   "execution_count": 3,
   "id": "aa8cb15a",
   "metadata": {},
   "outputs": [],
   "source": [
    "Map = {}\n",
    "suffix = []\n",
    "sub = \"\""
   ]
  },
  {
   "cell_type": "markdown",
   "id": "691d85ab",
   "metadata": {},
   "source": [
    "## Generar sufijos\n",
    "Se itera por la cadena de fin a principio, en cada iteración se acumulan caracteres a una subcadena y se añade al diccionario con un valor igual a la iteración.\n",
    "\n"
   ]
  },
  {
   "cell_type": "code",
   "execution_count": 4,
   "id": "c037dbb9",
   "metadata": {},
   "outputs": [],
   "source": [
    "for i in range(n - 1, -1, -1):\n",
    "    sub = s[i] + sub\n",
    "    Map[sub] = i"
   ]
  },
  {
   "cell_type": "markdown",
   "id": "b5c59e4a",
   "metadata": {},
   "source": [
    "Posteriormente se genera un arreglo de todas las llaves del diccionario, de esta manera podemos ordenar dicho arreglo alfabéticamente, y simplemente consultamos el diccionario con el arreglo ordenado para que nos regrese el arreglo se sufijos."
   ]
  },
  {
   "cell_type": "code",
   "execution_count": 5,
   "id": "863aec72",
   "metadata": {},
   "outputs": [],
   "source": [
    "for key in Map:\n",
    "    suffix.append(Map[key])\n",
    "keysList = radix_sort_letters(list(Map.keys()))"
   ]
  },
  {
   "cell_type": "markdown",
   "id": "5dfd495d",
   "metadata": {},
   "source": [
    "## Arreglo generado"
   ]
  },
  {
   "cell_type": "code",
   "execution_count": 8,
   "id": "c545da83",
   "metadata": {},
   "outputs": [
    {
     "name": "stdout",
     "output_type": "stream",
     "text": [
      "Suffix array for \"algoritmos\":\n",
      "0: algoritmos\n",
      "2: goritmos\n",
      "5: itmos\n",
      "1: lgoritmos\n",
      "7: mos\n",
      "3: oritmos\n",
      "8: os\n",
      "4: ritmos\n",
      "9: s\n",
      "6: tmos\n"
     ]
    }
   ],
   "source": [
    "print(f'Suffix array for \"{s}\":')\n",
    "for key in keysList:\n",
    "    print(f'{Map[key]}: {key}')"
   ]
  }
 ],
 "metadata": {
  "kernelspec": {
   "display_name": "Python 3 (ipykernel)",
   "language": "python",
   "name": "python3"
  },
  "language_info": {
   "codemirror_mode": {
    "name": "ipython",
    "version": 3
   },
   "file_extension": ".py",
   "mimetype": "text/x-python",
   "name": "python",
   "nbconvert_exporter": "python",
   "pygments_lexer": "ipython3",
   "version": "3.8.5"
  }
 },
 "nbformat": 4,
 "nbformat_minor": 5
}
